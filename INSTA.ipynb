{
  "nbformat": 4,
  "nbformat_minor": 0,
  "metadata": {
    "colab": {
      "name": "INSTA.ipynb",
      "provenance": [],
      "collapsed_sections": []
    },
    "kernelspec": {
      "name": "python3",
      "display_name": "Python 3"
    },
    "accelerator": "GPU"
  },
  "cells": [
    {
      "cell_type": "code",
      "metadata": {
        "id": "Rjp-CoX8Q-IZ"
      },
      "source": [
        "import glob\n",
        "import imageio\n",
        "import PIL\n",
        "import time\n",
        "import pandas as pd\n",
        "from IPython import display\n",
        "import matplotlib.pyplot as plt\n",
        "import cv2\n",
        "import tensorflow as tf\n",
        "from tqdm import tqdm_notebook, tnrange\n",
        "from tqdm import tqdm \n",
        "import numpy\n",
        "import os\n",
        "from PIL import Image"
      ],
      "execution_count": 1,
      "outputs": []
    },
    {
      "cell_type": "code",
      "metadata": {
        "id": "fe8vGIpLRGWX",
        "outputId": "e78bc1ba-e9e9-4158-e1f9-168de814a7cd",
        "colab": {
          "base_uri": "https://localhost:8080/"
        }
      },
      "source": [
        "from google.colab import drive\n",
        "drive.mount('/content/drive')\n",
        "!unzip -uq \"/content/drive/My Drive/Colab Notebooks/film.zip\" "
      ],
      "execution_count": 2,
      "outputs": [
        {
          "output_type": "stream",
          "text": [
            "Mounted at /content/drive\n"
          ],
          "name": "stdout"
        }
      ]
    },
    {
      "cell_type": "code",
      "metadata": {
        "id": "u4mKNQrxRZI6"
      },
      "source": [
        "import tensorflow as tf\n",
        "from tensorflow import keras\n",
        "from tensorflow.keras import layers\n",
        "IMG_SHAPE = (64, 64, 3)"
      ],
      "execution_count": 3,
      "outputs": []
    },
    {
      "cell_type": "code",
      "metadata": {
        "id": "6Flfg4ARs7ey"
      },
      "source": [
        "def change_res(img):\n",
        "  res = img.shape\n",
        "  width = 64\n",
        "  height = 64\n",
        "  dim = (width, height)\n",
        "  resized = cv2.resize(img, dim, interpolation = cv2.INTER_AREA)\n",
        "  resized =  numpy.asarray(resized)\n",
        "  return resized"
      ],
      "execution_count": 4,
      "outputs": []
    },
    {
      "cell_type": "code",
      "metadata": {
        "id": "unMZ0P_os8y6",
        "outputId": "47e00580-e306-4519-a255-35fe8d5f1748",
        "colab": {
          "base_uri": "https://localhost:8080/"
        }
      },
      "source": [
        " import os\n",
        " arr = os.listdir('the.analog.club')\n",
        " image = []\n",
        "\n",
        " for name in tqdm(arr):\n",
        "      img = imageio.imread(\"the.analog.club/\"+name)\n",
        "      img = change_res(img)\n",
        "      flipped = tf.image.flip_left_right(img)\n",
        "      updown = tf.image.flip_left_right(img)\n",
        "      saturated = tf.image.random_saturation(img,5,10,2)\n",
        "      image.append(img)\n",
        "      image.append(numpy.array(saturated))\n",
        "      image.append(numpy.array(flipped))\n",
        "      image.append(numpy.array(updown))\n",
        " train_images = numpy.asarray(image) "
      ],
      "execution_count": 5,
      "outputs": [
        {
          "output_type": "stream",
          "text": [
            "100%|██████████| 2432/2432 [01:10<00:00, 34.29it/s]\n"
          ],
          "name": "stderr"
        }
      ]
    },
    {
      "cell_type": "code",
      "metadata": {
        "id": "znKY0t4JyzrI",
        "outputId": "ef7c841d-88db-4f3b-da42-a9460ff998f3",
        "colab": {
          "base_uri": "https://localhost:8080/",
          "height": 285
        }
      },
      "source": [
        "plt.imshow(train_images[20,:,:,:])"
      ],
      "execution_count": 6,
      "outputs": [
        {
          "output_type": "execute_result",
          "data": {
            "text/plain": [
              "<matplotlib.image.AxesImage at 0x7fd4237b92b0>"
            ]
          },
          "metadata": {
            "tags": []
          },
          "execution_count": 6
        },
        {
          "output_type": "display_data",
          "data": {
            "image/png": "[encoded data removed]",
            "text/plain": [
              "<Figure size 432x288 with 1 Axes>"
            ]
          },
          "metadata": {
            "tags": [],
            "needs_background": "light"
          }
        }
      ]
    },
    {
      "cell_type": "code",
      "metadata": {
        "id": "ThQoRUfxMTX4",
        "outputId": "4e01156b-58b0-4d41-b30a-8f8b36868532",
        "colab": {
          "base_uri": "https://localhost:8080/"
        }
      },
      "source": [
        "image[0].shape"
      ],
      "execution_count": 7,
      "outputs": [
        {
          "output_type": "execute_result",
          "data": {
            "text/plain": [
              "(64, 64, 3)"
            ]
          },
          "metadata": {
            "tags": []
          },
          "execution_count": 7
        }
      ]
    },
    {
      "cell_type": "code",
      "metadata": {
        "id": "rZW3AWQCekEA",
        "outputId": "6ec3f2c4-aa2f-4f59-ffed-fab67a22373d",
        "colab": {
          "base_uri": "https://localhost:8080/"
        }
      },
      "source": [
        "print(train_images.shape)\n",
        "train_images = train_images.reshape(train_images.shape[0],train_images.shape[1], train_images.shape[2], 3).astype('float32')\n",
        "train_images = (train_images - 127.5) / 127.5"
      ],
      "execution_count": 8,
      "outputs": [
        {
          "output_type": "stream",
          "text": [
            "(9728, 64, 64, 3)\n"
          ],
          "name": "stdout"
        }
      ]
    },
    {
      "cell_type": "code",
      "metadata": {
        "id": "cOZTku7ImYMm"
      },
      "source": [
        "import cv2\n",
        "\n",
        "def add_gaussian_noise(X_imgs):\n",
        "    gaussian_noise_imgs = []\n",
        "    row, col, _ = X_imgs[0].shape\n",
        "    # Gaussian distribution parameters\n",
        "    mean = 0\n",
        "    var = 0.1\n",
        "    sigma = var ** 0.5\n",
        "    \n",
        "    for X_img in X_imgs:\n",
        "        gaussian = numpy.random.random((row, col, 1)).astype(numpy.float32)\n",
        "        gaussian = numpy.concatenate((gaussian, gaussian, gaussian), axis = 2)\n",
        "        gaussian_img = cv2.addWeighted(X_img, 0.75, 0.25 * gaussian, 0.25, 0)\n",
        "        gaussian_noise_imgs.append(gaussian_img)\n",
        "    gaussian_noise_imgs = numpy.array(gaussian_noise_imgs, dtype = numpy.float32)\n",
        "    return gaussian_noise_imgs\n",
        "  \n",
        "gaussian_noise_imgs = add_gaussian_noise(train_images)\n",
        "train_images = numpy.vstack((train_images,gaussian_noise_imgs))"
      ],
      "execution_count": 9,
      "outputs": []
    },
    {
      "cell_type": "code",
      "metadata": {
        "id": "hJ3kn7SXvB3T",
        "outputId": "57d891af-b790-4656-f4ff-35b444fa85cc",
        "colab": {
          "base_uri": "https://localhost:8080/"
        }
      },
      "source": [
        "BUFFER_SIZE = 600\n",
        "BATCH_SIZE = 300\n",
        "train_dataset = tf.data.Dataset.from_tensor_slices(train_images).shuffle(BUFFER_SIZE).batch(BATCH_SIZE)\n",
        "print(train_images.shape[0])"
      ],
      "execution_count": 10,
      "outputs": [
        {
          "output_type": "stream",
          "text": [
            "19456\n"
          ],
          "name": "stdout"
        }
      ]
    },
    {
      "cell_type": "code",
      "metadata": {
        "id": "1Wlef5Agv7Ol"
      },
      "source": [
        "def upsample(filters, size,upsample = 0,apply_dropout=False):\n",
        "  initializer = tf.random_normal_initializer(0., 0.02)\n",
        "\n",
        "  if upsample == 1:\n",
        "    upstd = 1\n",
        "    std = 2\n",
        "  else:\n",
        "    upstd = 2\n",
        "    std = 1\n",
        "\n",
        "  result = tf.keras.Sequential()\n",
        "  result.add(layers.Conv2DTranspose(filters, size, strides=upstd,\n",
        "                                    padding='same',\n",
        "                                    kernel_initializer=initializer,\n",
        "                                    use_bias=False))\n",
        "  if upsample == 1:\n",
        "    result.add(layers.UpSampling2D(size = std, interpolation='bilinear'))\n",
        "  result.add(layers.BatchNormalization())\n",
        "\n",
        "  if apply_dropout:\n",
        "      result.add(layers.Dropout(0.2))\n",
        "\n",
        "  result.add(layers.LeakyReLU())\n",
        "  \n",
        "  return result"
      ],
      "execution_count": 11,
      "outputs": []
    },
    {
      "cell_type": "code",
      "metadata": {
        "id": "FeQ-00W1wvnw"
      },
      "source": [
        "def downsample(filters, size, std = 2, apply_batchnorm=True):\n",
        "  initializer = tf.random_normal_initializer(0., 0.02)\n",
        "  \n",
        "\n",
        "  result = tf.keras.Sequential()\n",
        "  result.add(layers.Conv2D(filters, size, strides=1, padding='same',\n",
        "                             kernel_initializer=initializer, use_bias=False))\n",
        "  result.add(layers.AveragePooling2D(std))\n",
        " \n",
        "  if apply_batchnorm:\n",
        "    result.add(layers.BatchNormalization())\n",
        "\n",
        "  result.add(layers.LeakyReLU())\n",
        "\n",
        "  return result"
      ],
      "execution_count": 12,
      "outputs": []
    },
    {
      "cell_type": "code",
      "metadata": {
        "id": "al3TvMAkbMjN"
      },
      "source": [
        "def upinc_block(x,filters)-> tf.Tensor:\n",
        "\n",
        "\n",
        "    initializer = tf.random_normal_initializer(0., 0.02)\n",
        "    \n",
        "    x = layers.BatchNormalization()(x)\n",
        "    x = layers.LeakyReLU()(x)\n",
        "    \n",
        "    x1 = upsample(filters,2)(x)\n",
        "\n",
        "    x2 = upsample(filters,1,1)(x) \n",
        "    x2 = upsample(filters,4)(x2) \n",
        "\n",
        "    x3 = upsample(filters,1,1)(x)\n",
        "    x3 = upsample(filters,2,1)(x3) \n",
        "    x3 = upsample(filters,4)(x3) \n",
        "\n",
        "    out = layers.Multiply()([x1,x2,x3])      \n",
        "    \n",
        "    return out"
      ],
      "execution_count": 13,
      "outputs": []
    },
    {
      "cell_type": "code",
      "metadata": {
        "id": "oN4I3LqYbk7E"
      },
      "source": [
        "def incres_block(t,filters)-> tf.Tensor:\n",
        "\n",
        "    initializer = tf.random_normal_initializer(0., 0.02)\n",
        "\n",
        "\n",
        "    x = layers.BatchNormalization()(t)\n",
        "    x = layers.LeakyReLU()(x)\n",
        "  \n",
        "    x1 = layers.Conv2D(filters,2,kernel_initializer=initializer,padding=\"same\")(x)\n",
        "    x2 = layers.Conv2D(filters,4,kernel_initializer=initializer,padding=\"same\")(x)\n",
        "            \n",
        "    out = layers.Multiply()([x1,x2])  \n",
        "    return out"
      ],
      "execution_count": 14,
      "outputs": []
    },
    {
      "cell_type": "code",
      "metadata": {
        "id": "LMsTV0Kbp77p"
      },
      "source": [
        "def generator(noise_dim = 128):\n",
        "              \n",
        "    initializer = tf.random_normal_initializer(0., 0.02)\n",
        "    noise = layers.Input(shape = noise_dim)\n",
        "    n_nodes = 256*4*4\n",
        "    \n",
        "    x = layers.Dense(n_nodes,kernel_initializer=initializer)(noise)\n",
        "    x = layers.BatchNormalization()(x)\n",
        "    x = layers.LeakyReLU()(x)\n",
        "    x = layers.Reshape((4,4,256))(x)\n",
        "\n",
        "    x = upsample(256,4,upsample=1)(x)\n",
        "    x = upsample(128,4,upsample=1)(x)\n",
        "    x = upsample(64,4,upsample=1)(x)\n",
        "    x = upsample(32,4,upsample=1)(x)\n",
        "\n",
        "    x = layers.Conv2DTranspose(3,4,1,activation='tanh', padding= 'same',\n",
        "                               kernel_initializer=initializer)(x)\n",
        "\n",
        "    return tf.keras.Model(inputs= noise, outputs=x,name=\"generator\")\n",
        "    \n"
      ],
      "execution_count": 15,
      "outputs": []
    },
    {
      "cell_type": "code",
      "metadata": {
        "id": "Lzmd2V7Ep-mz",
        "outputId": "d18b0858-40d9-486a-cc58-65db18f02894",
        "colab": {
          "base_uri": "https://localhost:8080/"
        }
      },
      "source": [
        "gen = generator()\n",
        "gen.summary()\n",
        "#tf.keras.utils.plot_model(gen, show_shapes=True, dpi=64)"
      ],
      "execution_count": 16,
      "outputs": [
        {
          "output_type": "stream",
          "text": [
            "Model: \"functional_1\"\n",
            "_________________________________________________________________\n",
            "Layer (type)                 Output Shape              Param #   \n",
            "=================================================================\n",
            "input_1 (InputLayer)         [(None, 128)]             0         \n",
            "_________________________________________________________________\n",
            "dense (Dense)                (None, 4096)              528384    \n",
            "_________________________________________________________________\n",
            "batch_normalization (BatchNo (None, 4096)              16384     \n",
            "_________________________________________________________________\n",
            "leaky_re_lu (LeakyReLU)      (None, 4096)              0         \n",
            "_________________________________________________________________\n",
            "reshape (Reshape)            (None, 4, 4, 256)         0         \n",
            "_________________________________________________________________\n",
            "sequential (Sequential)      (None, 8, 8, 256)         1049600   \n",
            "_________________________________________________________________\n",
            "sequential_1 (Sequential)    (None, 16, 16, 128)       524800    \n",
            "_________________________________________________________________\n",
            "sequential_2 (Sequential)    (None, 32, 32, 64)        131328    \n",
            "_________________________________________________________________\n",
            "sequential_3 (Sequential)    (None, 64, 64, 32)        32896     \n",
            "_________________________________________________________________\n",
            "conv2d_transpose_4 (Conv2DTr (None, 64, 64, 3)         1539      \n",
            "=================================================================\n",
            "Total params: 2,284,931\n",
            "Trainable params: 2,275,779\n",
            "Non-trainable params: 9,152\n",
            "_________________________________________________________________\n"
          ],
          "name": "stdout"
        }
      ]
    },
    {
      "cell_type": "code",
      "metadata": {
        "id": "TDMLeFpdyvWZ",
        "outputId": "217dc8d3-8b55-4f23-a4e3-f36c02d1a24a",
        "colab": {
          "base_uri": "https://localhost:8080/",
          "height": 285
        }
      },
      "source": [
        "noise = tf.random.normal([1, 128], mean = 0.0, stddev = 1)\n",
        "generated_image = gen(noise, training=False)\n",
        "pp = numpy.asarray(generated_image)*127.5 + 127.5\n",
        "plt.imshow(pp[0, :, :, :].astype(numpy.uint8), vmax = 255, vmin = 0)"
      ],
      "execution_count": 17,
      "outputs": [
        {
          "output_type": "execute_result",
          "data": {
            "text/plain": [
              "<matplotlib.image.AxesImage at 0x7fd42285d0b8>"
            ]
          },
          "metadata": {
            "tags": []
          },
          "execution_count": 17
        },
        {
          "output_type": "display_data",
          "data": {
            "image/png": "[encoded data removed]",
            "text/plain": [
              "<Figure size 432x288 with 1 Axes>"
            ]
          },
          "metadata": {
            "tags": [],
            "needs_background": "light"
          }
        }
      ]
    },
    {
      "cell_type": "code",
      "metadata": {
        "id": "TeehWqcHzY6Q"
      },
      "source": [
        "def critic(inp_dim = (64,64,3)):\n",
        "    initializer = tf.random_normal_initializer(0., 0.02)\n",
        "    img = layers.Input(shape = inp_dim)\n",
        "\n",
        "    # ENCODER\n",
        "\n",
        "    x = downsample(64,4)(img)\n",
        "    x = downsample(128,4)(x)\n",
        "    x = downsample(256,4)(x)\n",
        "    x = downsample(512,4)(x)\n",
        "    x = layers.Flatten()(x)\n",
        "  \n",
        "    x = layers.Dense(1,activation = 'linear',kernel_initializer=initializer)(x)\n",
        "\n",
        "    return tf.keras.Model(inputs= img, outputs=x,name=\"discriminator\")"
      ],
      "execution_count": 18,
      "outputs": []
    },
    {
      "cell_type": "code",
      "metadata": {
        "id": "C3KbKaQa0CYM",
        "outputId": "2af2e2c8-311d-4818-de32-0aece014e667",
        "colab": {
          "base_uri": "https://localhost:8080/"
        }
      },
      "source": [
        "disc = critic()\n",
        "disc.summary()\n",
        "\n",
        "#print(decision[0])"
      ],
      "execution_count": 27,
      "outputs": [
        {
          "output_type": "stream",
          "text": [
            "Model: \"discriminator\"\n",
            "_________________________________________________________________\n",
            "Layer (type)                 Output Shape              Param #   \n",
            "=================================================================\n",
            "input_3 (InputLayer)         [(None, 64, 64, 3)]       0         \n",
            "_________________________________________________________________\n",
            "sequential_8 (Sequential)    (None, 32, 32, 64)        3328      \n",
            "_________________________________________________________________\n",
            "sequential_9 (Sequential)    (None, 16, 16, 128)       131584    \n",
            "_________________________________________________________________\n",
            "sequential_10 (Sequential)   (None, 8, 8, 256)         525312    \n",
            "_________________________________________________________________\n",
            "sequential_11 (Sequential)   (None, 4, 4, 512)         2099200   \n",
            "_________________________________________________________________\n",
            "flatten_1 (Flatten)          (None, 8192)              0         \n",
            "_________________________________________________________________\n",
            "dense_2 (Dense)              (None, 1)                 8193      \n",
            "=================================================================\n",
            "Total params: 2,767,617\n",
            "Trainable params: 2,765,697\n",
            "Non-trainable params: 1,920\n",
            "_________________________________________________________________\n"
          ],
          "name": "stdout"
        }
      ]
    },
    {
      "cell_type": "code",
      "metadata": {
        "id": "JzdFs0D1Mc0r",
        "outputId": "b7a6d47d-e399-4b12-ee04-c27a6493ca8b",
        "colab": {
          "base_uri": "https://localhost:8080/"
        }
      },
      "source": [
        "decision = disc(generated_image, training = False)\n",
        "print(decision)"
      ],
      "execution_count": 28,
      "outputs": [
        {
          "output_type": "stream",
          "text": [
            "tf.Tensor([[-0.00028702]], shape=(1, 1), dtype=float32)\n"
          ],
          "name": "stdout"
        }
      ]
    },
    {
      "cell_type": "code",
      "metadata": {
        "id": "rxnKe_C0AgmK"
      },
      "source": [
        "class WGAN(keras.Model):\n",
        "    def __init__(\n",
        "        self,\n",
        "        discriminator,\n",
        "        generator,\n",
        "        latent_dim,\n",
        "        discriminator_extra_steps=3,\n",
        "        gp_weight=10.0,\n",
        "    ):\n",
        "        super(WGAN, self).__init__()\n",
        "        self.discriminator = discriminator\n",
        "        self.generator = generator\n",
        "        self.latent_dim = latent_dim\n",
        "        self.d_steps = discriminator_extra_steps\n",
        "        self.gp_weight = gp_weight\n",
        "\n",
        "    def compile(self, d_optimizer, g_optimizer, d_loss_fn, g_loss_fn):\n",
        "        super(WGAN, self).compile()\n",
        "        self.d_optimizer = d_optimizer\n",
        "        self.g_optimizer = g_optimizer\n",
        "        self.d_loss_fn = d_loss_fn\n",
        "        self.g_loss_fn = g_loss_fn\n",
        "\n",
        "    def gradient_penalty(self, batch_size, real_images, fake_images):\n",
        "        \"\"\" Calculates the gradient penalty.\n",
        "\n",
        "        This loss is calculated on an interpolated image\n",
        "        and added to the discriminator loss.\n",
        "        \"\"\"\n",
        "        # get the interplated image\n",
        "        alpha = tf.random.normal([batch_size, 1, 1, 1], 0.0, 1.0)\n",
        "        diff = fake_images - real_images\n",
        "        interpolated = real_images + alpha * diff\n",
        "\n",
        "        with tf.GradientTape() as gp_tape:\n",
        "            gp_tape.watch(interpolated)\n",
        "            # 1. Get the discriminator output for this interpolated image.\n",
        "            pred = self.discriminator(interpolated, training=True)\n",
        "\n",
        "        # 2. Calculate the gradients w.r.t to this interpolated image.\n",
        "        grads = gp_tape.gradient(pred, [interpolated])[0]\n",
        "        # 3. Calcuate the norm of the gradients\n",
        "        norm = tf.sqrt(tf.reduce_sum(tf.square(grads), axis=[1, 2, 3]))\n",
        "        gp = tf.reduce_mean((norm - 1.0) ** 2)\n",
        "        return gp\n",
        "\n",
        "    def train_step(self, real_images):\n",
        "        if isinstance(real_images, tuple):\n",
        "            real_images = real_images[0]\n",
        "\n",
        "        # Get the batch size\n",
        "        batch_size = tf.shape(real_images)[0]\n",
        "\n",
        "        # For each batch, we are going to perform the\n",
        "        # following steps as laid out in the original paper.\n",
        "        # 1. Train the generator and get the generator loss\n",
        "        # 2. Train the discriminator and get the discriminator loss\n",
        "        # 3. Calculate the gradient penalty\n",
        "        # 4. Multiply this gradient penalty with a constant weight factor\n",
        "        # 5. Add gradient penalty to the discriminator loss\n",
        "        # 6. Return generator and discriminator losses as a loss dictionary.\n",
        "\n",
        "        # Train discriminator first. The original paper recommends training\n",
        "        # the discriminator for `x` more steps (typically 5) as compared to\n",
        "        # one step of the generator. Here we will train it for 3 extra steps\n",
        "        # as compared to 5 to reduce the training time.\n",
        "        for i in range(self.d_steps):\n",
        "            # Get the latent vector\n",
        "            random_latent_vectors = tf.random.normal(\n",
        "                shape=(batch_size, self.latent_dim)\n",
        "            )\n",
        "            with tf.GradientTape() as tape:\n",
        "                # Generate fake images from the latent vector\n",
        "                fake_images = self.generator(random_latent_vectors, training=True)\n",
        "                # Get the logits for the fake images\n",
        "                fake_logits = self.discriminator(fake_images, training=True)\n",
        "                # Get the logits for real images\n",
        "                real_logits = self.discriminator(real_images, training=True)\n",
        "\n",
        "                # Calculate discriminator loss using fake and real logits\n",
        "                d_cost = self.d_loss_fn(real_img=real_logits, fake_img=fake_logits)\n",
        "                # Calculate the gradient penalty\n",
        "                gp = self.gradient_penalty(batch_size, real_images, fake_images)\n",
        "                # Add the gradient penalty to the original discriminator loss\n",
        "                d_loss = d_cost + gp * self.gp_weight\n",
        "\n",
        "            # Get the gradients w.r.t the discriminator loss\n",
        "            d_gradient = tape.gradient(d_loss, self.discriminator.trainable_variables)\n",
        "            # Update the weights of the discriminator using the discriminator optimizer\n",
        "            self.d_optimizer.apply_gradients(\n",
        "                zip(d_gradient, self.discriminator.trainable_variables)\n",
        "            )\n",
        "\n",
        "        # Train the generator now.\n",
        "        # Get the latent vector\n",
        "        random_latent_vectors = tf.random.normal(shape=(batch_size, self.latent_dim))\n",
        "        with tf.GradientTape() as tape:\n",
        "            # Generate fake images using the generator\n",
        "            generated_images = self.generator(random_latent_vectors, training=True)\n",
        "            # Get the discriminator logits for fake images\n",
        "            gen_img_logits = self.discriminator(generated_images, training=True)\n",
        "            # Calculate the generator loss\n",
        "            g_loss = self.g_loss_fn(gen_img_logits)\n",
        "\n",
        "        # Get the gradients w.r.t the generator loss\n",
        "        gen_gradient = tape.gradient(g_loss, self.generator.trainable_variables)\n",
        "        # Update the weights of the generator using the generator optimizer\n",
        "        self.g_optimizer.apply_gradients(\n",
        "            zip(gen_gradient, self.generator.trainable_variables)\n",
        "        )\n",
        "        return {\"d_loss\": d_loss, \"g_loss\": g_loss}"
      ],
      "execution_count": 29,
      "outputs": []
    },
    {
      "cell_type": "code",
      "metadata": {
        "id": "xGTdLk-pAk98"
      },
      "source": [
        "class GANMonitor(keras.callbacks.Callback):\n",
        "    def __init__(self, num_img=6, latent_dim=128):\n",
        "        self.num_img = num_img\n",
        "        self.latent_dim = latent_dim\n",
        "\n",
        "    def on_epoch_end(self, epoch, logs=None):\n",
        "        random_latent_vectors = tf.random.normal(shape=(self.num_img, self.latent_dim))\n",
        "        generated_images = self.model.generator(random_latent_vectors)\n",
        "        generated_images = (generated_images * 127.5) + 127.5\n",
        "\n",
        "        for i in range(self.num_img):\n",
        "            img = generated_images[i].numpy()\n",
        "            img = keras.preprocessing.image.array_to_img(img)\n",
        "            img.save(\"generated_img_{i}_{epoch}.png\".format(i=i, epoch=epoch))"
      ],
      "execution_count": 30,
      "outputs": []
    },
    {
      "cell_type": "code",
      "metadata": {
        "id": "IOqzRQ0IArk-",
        "outputId": "17d5d980-a41e-40c1-e9d2-b848f682bb01",
        "colab": {
          "base_uri": "https://localhost:8080/"
        }
      },
      "source": [
        "# Optimizer for both the networks\n",
        "# learning_rate=0.0002, beta_1=0.5 are recommened\n",
        "generator_optimizer = keras.optimizers.Adam(\n",
        "    learning_rate=0.0002, beta_1=0.5, beta_2=0.9\n",
        ")\n",
        "discriminator_optimizer = keras.optimizers.Adam(\n",
        "    learning_rate=0.0002, beta_1=0.5, beta_2=0.9\n",
        ")\n",
        "\n",
        "# Define the loss functions to be used for discrimiator\n",
        "# This should be (fake_loss - real_loss)\n",
        "# We will add the gradient penalty later to this loss function\n",
        "def discriminator_loss(real_img, fake_img):\n",
        "    real_loss = tf.reduce_mean(real_img)\n",
        "    fake_loss = tf.reduce_mean(fake_img)\n",
        "    return fake_loss - real_loss\n",
        "\n",
        "\n",
        "# Define the loss functions to be used for generator\n",
        "def generator_loss(fake_img):\n",
        "    return -tf.reduce_mean(fake_img)\n",
        "\n",
        "\n",
        "# Epochs to train\n",
        "epochs = 20\n",
        "\n",
        "# Callbacks\n",
        "cbk = GANMonitor(num_img=3, latent_dim=128)\n",
        "\n",
        "# Get the wgan model\n",
        "wgan = WGAN(\n",
        "    discriminator=disc,\n",
        "    generator=gen,\n",
        "    latent_dim=128,\n",
        "    discriminator_extra_steps=3,\n",
        ")\n",
        "\n",
        "# Compile the wgan model\n",
        "wgan.compile(\n",
        "    d_optimizer=discriminator_optimizer,\n",
        "    g_optimizer=generator_optimizer,\n",
        "    g_loss_fn=generator_loss,\n",
        "    d_loss_fn=discriminator_loss,\n",
        ")\n",
        "\n",
        "# Start training\n",
        "wgan.fit(train_images, batch_size=BATCH_SIZE, epochs=epochs, callbacks=[cbk])"
      ],
      "execution_count": null,
      "outputs": [
        {
          "output_type": "stream",
          "text": [
            "Epoch 1/20\n",
            "65/65 [==============================] - 94s 1s/step - d_loss: -139.3903 - g_loss: 81.6587\n",
            "Epoch 2/20\n",
            "65/65 [==============================] - 93s 1s/step - d_loss: -356.7415 - g_loss: 203.6835\n",
            "Epoch 3/20\n",
            "65/65 [==============================] - 93s 1s/step - d_loss: -637.2846 - g_loss: 351.1908\n",
            "Epoch 4/20\n",
            "65/65 [==============================] - 93s 1s/step - d_loss: -992.9430 - g_loss: 587.6195\n",
            "Epoch 5/20\n",
            "65/65 [==============================] - 93s 1s/step - d_loss: -1472.8645 - g_loss: 807.6219\n",
            "Epoch 6/20\n",
            "50/65 [======================>.......] - ETA: 21s - d_loss: -1837.2625 - g_loss: 1043.0774"
          ],
          "name": "stdout"
        }
      ]
    },
    {
      "cell_type": "code",
      "metadata": {
        "id": "phsfgcPYCZ21"
      },
      "source": [
        "from IPython.display import Image, display\n",
        "\n",
        "display(Image(\"generated_img_0_19.png\"))\n",
        "display(Image(\"generated_img_1_19.png\"))\n",
        "display(Image(\"generated_img_2_19.png\"))"
      ],
      "execution_count": null,
      "outputs": []
    }
  ]
}